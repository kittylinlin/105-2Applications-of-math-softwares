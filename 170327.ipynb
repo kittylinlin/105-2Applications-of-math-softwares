{
 "cells": [
  {
   "cell_type": "markdown",
   "metadata": {},
   "source": [
    "## D04用CNN做MNIST手寫辨識"
   ]
  },
  {
   "cell_type": "code",
   "execution_count": 1,
   "metadata": {
    "collapsed": true
   },
   "outputs": [],
   "source": [
    "%matplotlib inline\n",
    "import numpy as np"
   ]
  },
  {
   "cell_type": "code",
   "execution_count": 2,
   "metadata": {
    "collapsed": false
   },
   "outputs": [
    {
     "name": "stderr",
     "output_type": "stream",
     "text": [
      "Using Theano backend.\n"
     ]
    }
   ],
   "source": [
    "from keras.datasets import mnist\n",
    "from keras.models import Sequential\n",
    "from keras.layers import Dense, Dropout, Activation, Flatten\n",
    "from keras.layers import Conv2D, MaxPooling2D\n",
    "from keras.utils import np_utils\n",
    "from keras.optimizers import Adadelta"
   ]
  },
  {
   "cell_type": "code",
   "execution_count": 3,
   "metadata": {
    "collapsed": true
   },
   "outputs": [],
   "source": [
    "(x0_train, y0_train), (x0_test, y0_test) = mnist.load_data()"
   ]
  },
  {
   "cell_type": "code",
   "execution_count": 4,
   "metadata": {
    "collapsed": false
   },
   "outputs": [],
   "source": [
    "#import keras.backend as K\n",
    "#K.backend()"
   ]
  },
  {
   "cell_type": "code",
   "execution_count": 27,
   "metadata": {
    "collapsed": true
   },
   "outputs": [],
   "source": [
    "# Thena backend: (28, 28, 1)\n",
    "# tensorflow backend: (1,28,28)\n",
    "x_train = x0_train.reshape(60000, 28, 28, 1)\n",
    "x_test = x0_test.reshape(10000, 28, 28, 1)\n",
    "x_train = x_train.astype('float32')\n",
    "x_test = x_test.astype('float32')\n",
    "x_train = x_train / 255\n",
    "x_test = x_test / 255"
   ]
  },
  {
   "cell_type": "code",
   "execution_count": 6,
   "metadata": {
    "collapsed": true
   },
   "outputs": [],
   "source": [
    "y_test = np_utils.to_categorical(y0_test, 10)\n",
    "y_train = np_utils.to_categorical(y0_train, 10)"
   ]
  },
  {
   "cell_type": "markdown",
   "metadata": {},
   "source": [
    "## CNN"
   ]
  },
  {
   "cell_type": "code",
   "execution_count": 13,
   "metadata": {
    "collapsed": true
   },
   "outputs": [],
   "source": [
    "model = Sequential()"
   ]
  },
  {
   "cell_type": "code",
   "execution_count": 15,
   "metadata": {
    "collapsed": false
   },
   "outputs": [],
   "source": [
    "model.add(Conv2D(10, (3,3), padding='same', input_shape=(28,28,1)))\n",
    "model.add(Activation('relu'))"
   ]
  },
  {
   "cell_type": "code",
   "execution_count": 16,
   "metadata": {
    "collapsed": true
   },
   "outputs": [],
   "source": [
    "model.add(MaxPooling2D(pool_size=(2,2)))"
   ]
  },
  {
   "cell_type": "code",
   "execution_count": 17,
   "metadata": {
    "collapsed": true
   },
   "outputs": [],
   "source": [
    "model.add(Conv2D(10, (3,3), padding='same'))\n",
    "model.add(Activation('relu'))"
   ]
  },
  {
   "cell_type": "code",
   "execution_count": 18,
   "metadata": {
    "collapsed": true
   },
   "outputs": [],
   "source": [
    "model.add(MaxPooling2D(pool_size=(2,2)))"
   ]
  },
  {
   "cell_type": "code",
   "execution_count": 19,
   "metadata": {
    "collapsed": true
   },
   "outputs": [],
   "source": [
    "model.add(Flatten())\n",
    "model.add(Dense(200))\n",
    "model.add(Activation('relu'))"
   ]
  },
  {
   "cell_type": "code",
   "execution_count": 20,
   "metadata": {
    "collapsed": true
   },
   "outputs": [],
   "source": [
    "model.add(Dense(10))\n",
    "model.add(Activation('softmax'))"
   ]
  },
  {
   "cell_type": "code",
   "execution_count": 21,
   "metadata": {
    "collapsed": true
   },
   "outputs": [],
   "source": [
    "model.compile(loss=\"categorical_crossentropy\", optimizer=Adadelta(), metrics=['accuracy'])"
   ]
  },
  {
   "cell_type": "code",
   "execution_count": 22,
   "metadata": {
    "collapsed": false
   },
   "outputs": [
    {
     "name": "stdout",
     "output_type": "stream",
     "text": [
      "Epoch 1/20\n",
      "60000/60000 [==============================] - 28s - loss: 3.2068 - acc: 0.7603    \n",
      "Epoch 2/20\n",
      "60000/60000 [==============================] - 28s - loss: 0.4916 - acc: 0.9372    \n",
      "Epoch 3/20\n",
      "60000/60000 [==============================] - 28s - loss: 0.1250 - acc: 0.9693    \n",
      "Epoch 4/20\n",
      "60000/60000 [==============================] - 29s - loss: 0.0796 - acc: 0.9782    \n",
      "Epoch 5/20\n",
      "60000/60000 [==============================] - 26s - loss: 0.0566 - acc: 0.9839    \n",
      "Epoch 6/20\n",
      "60000/60000 [==============================] - 28s - loss: 0.0416 - acc: 0.9874    \n",
      "Epoch 7/20\n",
      "60000/60000 [==============================] - 28s - loss: 0.0322 - acc: 0.9902    \n",
      "Epoch 8/20\n",
      "60000/60000 [==============================] - 29s - loss: 0.0248 - acc: 0.9925    \n",
      "Epoch 9/20\n",
      "60000/60000 [==============================] - 28s - loss: 0.0188 - acc: 0.9942    \n",
      "Epoch 10/20\n",
      "60000/60000 [==============================] - 28s - loss: 0.0147 - acc: 0.9956    \n",
      "Epoch 11/20\n",
      "60000/60000 [==============================] - 29s - loss: 0.0118 - acc: 0.9965    \n",
      "Epoch 12/20\n",
      "60000/60000 [==============================] - 28s - loss: 0.0093 - acc: 0.9972    \n",
      "Epoch 13/20\n",
      "60000/60000 [==============================] - 29s - loss: 0.0071 - acc: 0.9981    \n",
      "Epoch 14/20\n",
      "60000/60000 [==============================] - 29s - loss: 0.0060 - acc: 0.9987    \n",
      "Epoch 15/20\n",
      "60000/60000 [==============================] - 29s - loss: 0.0049 - acc: 0.9989    \n",
      "Epoch 16/20\n",
      "60000/60000 [==============================] - 28s - loss: 0.0039 - acc: 0.9992    \n",
      "Epoch 17/20\n",
      "60000/60000 [==============================] - 27s - loss: 0.0032 - acc: 0.9995    \n",
      "Epoch 18/20\n",
      "60000/60000 [==============================] - 28s - loss: 0.0029 - acc: 0.9994    \n",
      "Epoch 19/20\n",
      "60000/60000 [==============================] - 28s - loss: 0.0025 - acc: 0.9995    \n",
      "Epoch 20/20\n",
      "60000/60000 [==============================] - 28s - loss: 0.0020 - acc: 0.9997    \n"
     ]
    },
    {
     "data": {
      "text/plain": [
       "<keras.callbacks.History at 0x10f320cc0>"
      ]
     },
     "execution_count": 22,
     "metadata": {},
     "output_type": "execute_result"
    }
   ],
   "source": [
    "model.fit(x_train, y_train, batch_size=100, epochs=20)"
   ]
  },
  {
   "cell_type": "code",
   "execution_count": 29,
   "metadata": {
    "collapsed": false
   },
   "outputs": [
    {
     "name": "stdout",
     "output_type": "stream",
     "text": [
      " 9792/10000 [============================>.] - ETA: 0s"
     ]
    }
   ],
   "source": [
    "result = model.predict_classes(x_test)"
   ]
  },
  {
   "cell_type": "code",
   "execution_count": 30,
   "metadata": {
    "collapsed": false
   },
   "outputs": [
    {
     "name": "stdout",
     "output_type": "stream",
     "text": [
      " 9952/10000 [============================>.] - ETA: 0s"
     ]
    }
   ],
   "source": [
    "score = model.evaluate(x_test, y_test)"
   ]
  },
  {
   "cell_type": "code",
   "execution_count": 31,
   "metadata": {
    "collapsed": true
   },
   "outputs": [],
   "source": [
    "loss, acc = score"
   ]
  },
  {
   "cell_type": "code",
   "execution_count": 32,
   "metadata": {
    "collapsed": false
   },
   "outputs": [
    {
     "data": {
      "text/plain": [
       "2.21533536529541"
      ]
     },
     "execution_count": 32,
     "metadata": {},
     "output_type": "execute_result"
    }
   ],
   "source": [
    "loss"
   ]
  },
  {
   "cell_type": "code",
   "execution_count": 34,
   "metadata": {
    "collapsed": false
   },
   "outputs": [
    {
     "data": {
      "text/plain": [
       "0.71970000000000001"
      ]
     },
     "execution_count": 34,
     "metadata": {},
     "output_type": "execute_result"
    }
   ],
   "source": [
    "acc"
   ]
  },
  {
   "cell_type": "code",
   "execution_count": null,
   "metadata": {
    "collapsed": true
   },
   "outputs": [],
   "source": []
  }
 ],
 "metadata": {
  "kernelspec": {
   "display_name": "Python 3",
   "language": "python",
   "name": "python3"
  },
  "language_info": {
   "codemirror_mode": {
    "name": "ipython",
    "version": 3
   },
   "file_extension": ".py",
   "mimetype": "text/x-python",
   "name": "python",
   "nbconvert_exporter": "python",
   "pygments_lexer": "ipython3",
   "version": "3.5.2"
  }
 },
 "nbformat": 4,
 "nbformat_minor": 1
}
