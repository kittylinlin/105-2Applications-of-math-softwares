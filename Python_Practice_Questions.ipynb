{
 "cells": [
  {
   "cell_type": "code",
   "execution_count": 1,
   "metadata": {
    "collapsed": false
   },
   "outputs": [],
   "source": [
    "%matplotlib inline\n",
    "import numpy as np\n",
    "import matplotlib.pyplot as plt\n",
    "import pandas as pd"
   ]
  },
  {
   "cell_type": "code",
   "execution_count": 2,
   "metadata": {
    "collapsed": true
   },
   "outputs": [],
   "source": [
    "from sympy import *"
   ]
  },
  {
   "cell_type": "markdown",
   "metadata": {},
   "source": [
    "## Q1. 猜數字遊戲\n",
    "\n",
    "電腦自己從 1-100 選一個數字, 請你輸入, 要告訴你太大或太小, 直到你猜對。"
   ]
  },
  {
   "cell_type": "code",
   "execution_count": 3,
   "metadata": {
    "collapsed": true
   },
   "outputs": [],
   "source": [
    "def guess_number():\n",
    "    u = 100\n",
    "    l = 1\n",
    "    ans = np.random.randint(1,101)\n",
    "    guess = int(input('please guess a number between 1 and 100: '))\n",
    "    while guess!=ans:\n",
    "        if guess > ans:\n",
    "            u = guess\n",
    "            guess = int(input('it is too big, please guess a number between %d and %d: ' %(l,u)))\n",
    "        else:\n",
    "            l = guess\n",
    "            guess = int(input('it is too small, please guess a number between %d and %d: ' %(l,u)))\n",
    "    print('Bingo!')"
   ]
  },
  {
   "cell_type": "code",
   "execution_count": 4,
   "metadata": {
    "collapsed": false
   },
   "outputs": [
    {
     "name": "stdout",
     "output_type": "stream",
     "text": [
      "please guess a number between 1 and 100: 2\n",
      "it is too small, please guess a number between 2 and 100: 50\n",
      "it is too big, please guess a number between 2 and 50: 38\n",
      "it is too big, please guess a number between 2 and 38: 20\n",
      "it is too big, please guess a number between 2 and 20: 15\n",
      "it is too big, please guess a number between 2 and 15: 10\n",
      "it is too small, please guess a number between 10 and 15: 13\n",
      "Bingo!\n"
     ]
    }
   ],
   "source": [
    "guess_number()"
   ]
  },
  {
   "cell_type": "markdown",
   "metadata": {},
   "source": [
    "## Q2. 幾 A 幾 B 猜數字\n",
    "\n",
    "電腦從 0-9 選四個不重覆的數字, 任意排列。你在不知正確答案的情況下告訴電腦你猜的數字, 電腦會回應你幾 A 幾 B。一直玩到完全猜對 (4A) 為止。"
   ]
  },
  {
   "cell_type": "code",
   "execution_count": 5,
   "metadata": {
    "collapsed": true
   },
   "outputs": [],
   "source": [
    "def A_B():\n",
    "    ans = []\n",
    "    guess = []\n",
    "    for i in range(4):\n",
    "        ans.append(np.random.choice(range(0,10)))\n",
    "    temp = input('please input four numbers: ')\n",
    "    for i in range(4):\n",
    "        guess.append(int(temp[i]))\n",
    "    print(ans)\n",
    "    while ans != guess:\n",
    "        A = 0\n",
    "        B = 0\n",
    "        for i in range(4):\n",
    "            if ans[i] == guess[i]:\n",
    "                A = A + 1\n",
    "            elif ans[i] in guess:\n",
    "                B = B + 1\n",
    "        print('%dA %dB' %(A,B))\n",
    "        temp = input('please input four numbers: ')\n",
    "        for i in range(4):\n",
    "            guess[i] = int(temp[i])\n",
    "    print('Bingo!')"
   ]
  },
  {
   "cell_type": "code",
   "execution_count": 6,
   "metadata": {
    "collapsed": false
   },
   "outputs": [
    {
     "name": "stdout",
     "output_type": "stream",
     "text": [
      "please input four numbers: 1362\n",
      "[9, 9, 4, 4]\n",
      "0A 0B\n",
      "please input four numbers: 9944\n",
      "Bingo!\n"
     ]
    }
   ],
   "source": [
    "A_B()"
   ]
  },
  {
   "cell_type": "markdown",
   "metadata": {},
   "source": [
    "## Q3. 用 `pandas` 製作課表或讀書計畫表\n",
    "\n",
    "用 `pandas` 製作這學期的課表或是期末考的讀書計畫表, 並且儲存為 Excel 的檔案。"
   ]
  },
  {
   "cell_type": "code",
   "execution_count": 7,
   "metadata": {
    "collapsed": false
   },
   "outputs": [
    {
     "data": {
      "text/html": [
       "<div>\n",
       "<table border=\"1\" class=\"dataframe\">\n",
       "  <thead>\n",
       "    <tr style=\"text-align: right;\">\n",
       "      <th></th>\n",
       "      <th>A</th>\n",
       "      <th>B</th>\n",
       "      <th>C</th>\n",
       "      <th>D</th>\n",
       "      <th>E</th>\n",
       "    </tr>\n",
       "  </thead>\n",
       "  <tbody>\n",
       "    <tr>\n",
       "      <th>1</th>\n",
       "      <td></td>\n",
       "      <td></td>\n",
       "      <td></td>\n",
       "      <td></td>\n",
       "      <td></td>\n",
       "    </tr>\n",
       "    <tr>\n",
       "      <th>2</th>\n",
       "      <td></td>\n",
       "      <td></td>\n",
       "      <td></td>\n",
       "      <td></td>\n",
       "      <td></td>\n",
       "    </tr>\n",
       "    <tr>\n",
       "      <th>3</th>\n",
       "      <td>導師課</td>\n",
       "      <td></td>\n",
       "      <td></td>\n",
       "      <td></td>\n",
       "      <td></td>\n",
       "    </tr>\n",
       "    <tr>\n",
       "      <th>4</th>\n",
       "      <td>導師課</td>\n",
       "      <td></td>\n",
       "      <td></td>\n",
       "      <td></td>\n",
       "      <td></td>\n",
       "    </tr>\n",
       "    <tr>\n",
       "      <th>C</th>\n",
       "      <td>午休</td>\n",
       "      <td>午休</td>\n",
       "      <td>午休</td>\n",
       "      <td>午休</td>\n",
       "      <td>午休</td>\n",
       "    </tr>\n",
       "    <tr>\n",
       "      <th>D</th>\n",
       "      <td>午休</td>\n",
       "      <td>午休</td>\n",
       "      <td>午休</td>\n",
       "      <td>午休</td>\n",
       "      <td>午休</td>\n",
       "    </tr>\n",
       "    <tr>\n",
       "      <th>5</th>\n",
       "      <td></td>\n",
       "      <td></td>\n",
       "      <td></td>\n",
       "      <td></td>\n",
       "      <td></td>\n",
       "    </tr>\n",
       "    <tr>\n",
       "      <th>6</th>\n",
       "      <td></td>\n",
       "      <td></td>\n",
       "      <td></td>\n",
       "      <td></td>\n",
       "      <td></td>\n",
       "    </tr>\n",
       "    <tr>\n",
       "      <th>7</th>\n",
       "      <td>數軟</td>\n",
       "      <td></td>\n",
       "      <td></td>\n",
       "      <td></td>\n",
       "      <td></td>\n",
       "    </tr>\n",
       "    <tr>\n",
       "      <th>8</th>\n",
       "      <td>數軟</td>\n",
       "      <td></td>\n",
       "      <td></td>\n",
       "      <td></td>\n",
       "      <td></td>\n",
       "    </tr>\n",
       "  </tbody>\n",
       "</table>\n",
       "</div>"
      ],
      "text/plain": [
       "     A   B   C   D   E\n",
       "1                     \n",
       "2                     \n",
       "3  導師課                \n",
       "4  導師課                \n",
       "C   午休  午休  午休  午休  午休\n",
       "D   午休  午休  午休  午休  午休\n",
       "5                     \n",
       "6                     \n",
       "7   數軟                \n",
       "8   數軟                "
      ]
     },
     "execution_count": 7,
     "metadata": {},
     "output_type": "execute_result"
    }
   ],
   "source": [
    "d = {'A' : ['','','導師課','導師課','午休','午休','','','數軟','數軟'],\n",
    "     'B' : ['','','','','午休','午休','','','',''],\n",
    "     'C' : ['','','','','午休','午休','','','',''],\n",
    "     'D' : ['','','','','午休','午休','','','',''],\n",
    "     'E' : ['','','','','午休','午休','','','','']}\n",
    "df = pd.DataFrame(d, index=['1','2','3','4','C','D','5','6','7','8'])\n",
    "df"
   ]
  },
  {
   "cell_type": "markdown",
   "metadata": {
    "collapsed": true
   },
   "source": [
    "## Q4. 用 Inkscape 繪圖\n",
    "\n",
    "用 Inkscape 畫出一張可愛的圖, 然後上傳至[Imgur](http://imgur.com/)之類可以讓你直接連圖的空間。在 Imgur 的話點圖後按右鍵複製圖片位址, 再利用 `IPython.display` 將圖秀在這裡。"
   ]
  },
  {
   "cell_type": "code",
   "execution_count": 8,
   "metadata": {
    "collapsed": false
   },
   "outputs": [
    {
     "data": {
      "text/html": [
       "<img src=\"http://imgur.com/a/EDXtY\">"
      ],
      "text/plain": [
       "<IPython.core.display.HTML object>"
      ]
     },
     "metadata": {},
     "output_type": "display_data"
    }
   ],
   "source": [
    "from IPython.display import display,HTML\n",
    "pig = HTML('<img src=\"http://imgur.com/a/EDXtY\">')\n",
    "display(pig)"
   ]
  },
  {
   "cell_type": "markdown",
   "metadata": {},
   "source": [
    "## Q5. 生命密碼\n",
    "\n",
    "生命密碼理論說你生日所有的位數加起來, 直到只剩一個位數時就是你的生命密碼。\n",
    "\n",
    "#### 例子\n",
    "哆啦A夢的生日是「2112年9月3日」, 我們當然可以記為 `21120903` (雖然在此不是重點)。所以算算哆啦A夢的生命密碼是\n",
    "\n",
    "    2 + 1 + 1 + 2 + 0 + 9 + 0 + 3 = 18\n",
    "    \n",
    "因為還有兩位數, 所以我們再加\n",
    "\n",
    "    1 + 8 = 9\n",
    "    \n",
    "因此 9 就是哆啦A夢的生命密碼。\n",
    "\n",
    "用 Python 寫個程式, 輸入一個人的出生年月日, 求他的生命密碼!"
   ]
  },
  {
   "cell_type": "code",
   "execution_count": 9,
   "metadata": {
    "collapsed": true
   },
   "outputs": [],
   "source": [
    "def life_code():\n",
    "    code = input('please enter your birthday(YYYYMMDD): ')\n",
    "    while len(code) > 1:\n",
    "        n = len(code)\n",
    "        temp = 0\n",
    "        for i in range(n):\n",
    "            temp = temp + int(code[i])\n",
    "        code = str(temp)\n",
    "    print('your life code is %s' %(code))"
   ]
  },
  {
   "cell_type": "code",
   "execution_count": 10,
   "metadata": {
    "collapsed": false
   },
   "outputs": [
    {
     "name": "stdout",
     "output_type": "stream",
     "text": [
      "please enter your birthday(YYYYMMDD): 19950729\n",
      "your life code is 6\n"
     ]
    }
   ],
   "source": [
    "life_code()"
   ]
  },
  {
   "cell_type": "markdown",
   "metadata": {},
   "source": [
    "## Q6. 讀入某支股票去年至今的收盤價\n",
    "\n",
    "讀入一支美國股票 (你自己選要哪一支), 然後畫出他自去年 1 月 1 日起到今天的收盤價。\n",
    "\n",
    "你的 Azure Notebooks 如果還沒裝 `pandas-datareader`, 需要執行下面這一步。一個 Library 執行一次就可以。"
   ]
  },
  {
   "cell_type": "code",
   "execution_count": 12,
   "metadata": {
    "collapsed": false
   },
   "outputs": [],
   "source": [
    "# !conda install pandas-datareader -y"
   ]
  },
  {
   "cell_type": "code",
   "execution_count": 11,
   "metadata": {
    "collapsed": false
   },
   "outputs": [
    {
     "data": {
      "text/plain": [
       "<matplotlib.axes._subplots.AxesSubplot at 0x108e75ac8>"
      ]
     },
     "execution_count": 11,
     "metadata": {},
     "output_type": "execute_result"
    },
    {
     "data": {
      "image/png": "[encoded data removed]",
      "text/plain": [
       "<matplotlib.figure.Figure at 0x108cc0f60>"
      ]
     },
     "metadata": {},
     "output_type": "display_data"
    }
   ],
   "source": [
    "import pandas_datareader.data as web\n",
    "import datetime\n",
    "symbol = \"AAPL\"\n",
    "day_start = datetime.datetime(2016,1,1)\n",
    "day_end = datetime.datetime(2016,12,19)\n",
    "df = web.DataReader(symbol, 'yahoo', day_start, day_end)\n",
    "df.Close.plot()"
   ]
  },
  {
   "cell_type": "markdown",
   "metadata": {},
   "source": [
    "## Q7. 你的湯匙\n",
    "(李芫寧出題)\n",
    "\n",
    "從前從前~ 有三隻湯匙(金湯匙、銀湯匙、破湯匙)\n",
    "\n",
    "有一天湯匙掉進湯裡面了!! \n",
    "\n",
    "有龍龍從裡面浮了出來說：「你掉的是1.金湯匙、2.銀湯匙還是3.破湯匙啊？」\n",
    "\n",
    "輸入：1, 2, 3 其中一個數字\n",
    "\n",
    "輸出：當輸入為1或2  印出 「你不誠實~你才沒有掉過湯匙」，並再重覆一次問題，並再要求輸入答案\n",
    "\n",
    "當輸入為3   印出「請找炎龍老師領回你的破湯匙」"
   ]
  },
  {
   "cell_type": "code",
   "execution_count": 13,
   "metadata": {
    "collapsed": true
   },
   "outputs": [],
   "source": [
    "def spoons():\n",
    "    ans = int(input('你掉的是1.金湯匙、2.銀湯匙還是3.破湯匙啊？'))\n",
    "    while ans != 3:\n",
    "        print('你不誠實~你才沒有掉過湯匙')\n",
    "        ans = int(input('你掉的是1.金湯匙、2.銀湯匙還是3.破湯匙啊？'))\n",
    "    print('請找炎龍老師領回你的破湯匙')"
   ]
  },
  {
   "cell_type": "code",
   "execution_count": 14,
   "metadata": {
    "collapsed": false
   },
   "outputs": [
    {
     "name": "stdout",
     "output_type": "stream",
     "text": [
      "你掉的是1.金湯匙、2.銀湯匙還是3.破湯匙啊？3\n",
      "請找炎龍老師領回你的破湯匙\n"
     ]
    }
   ],
   "source": [
    "spoons()"
   ]
  },
  {
   "cell_type": "markdown",
   "metadata": {},
   "source": [
    "## Q8. 亂數抽點系統\n",
    "\n",
    "假設有個十位同學的班級, 名單如下。你當老師想抽同學上來做 Python 習題, 每次抽一位。再按個鍵 (如 `Return`) 才會抽下一位。不可以有重覆, 直到抽完就下課。"
   ]
  },
  {
   "cell_type": "code",
   "execution_count": 15,
   "metadata": {
    "collapsed": false
   },
   "outputs": [],
   "source": [
    "students = [\"吳又諭\", \"鄧麗雲\", \"林素來\", \"陳茂辰\", \"楊文傑\", \"黃依傑\", \"陳姵發\", \"龔姿伶\", \"陳德利\", \"潘秀慧\"]"
   ]
  },
  {
   "cell_type": "code",
   "execution_count": 16,
   "metadata": {
    "collapsed": true
   },
   "outputs": [],
   "source": [
    "def choose():\n",
    "    while len(students) > 0:\n",
    "        input('press enter to continue')\n",
    "        stu = np.random.choice(students)\n",
    "        print(stu)\n",
    "        students.remove(stu)"
   ]
  },
  {
   "cell_type": "code",
   "execution_count": 17,
   "metadata": {
    "collapsed": false
   },
   "outputs": [
    {
     "name": "stdout",
     "output_type": "stream",
     "text": [
      "press enter to continue\n",
      "陳德利\n",
      "press enter to continue\n",
      "黃依傑\n",
      "press enter to continue\n",
      "林素來\n",
      "press enter to continue\n",
      "鄧麗雲\n",
      "press enter to continue\n",
      "楊文傑\n",
      "press enter to continue\n",
      "潘秀慧\n",
      "press enter to continue\n",
      "吳又諭\n",
      "press enter to continue\n",
      "陳姵發\n",
      "press enter to continue\n",
      "龔姿伶\n",
      "press enter to continue\n",
      "陳茂辰\n"
     ]
    }
   ],
   "source": [
    "choose()"
   ]
  },
  {
   "cell_type": "markdown",
   "metadata": {},
   "source": [
    "## Q9. 沒辦法, 我害羞\n",
    "\n",
    "這是 Google Code Jam (Google 的程式比賽) 資格賽中的一題:\n",
    "\n",
    "(原題目在這裡, 這裡不是翻譯, 只是照原題意說明, 略略簡化一點點)\n",
    "\n",
    "你認識的朋友是一個歌劇的主唱, 你在首演時不會到場 (這是什麼朋友), 但是你希望結束時她會得到全場起立鼓掌!!\n",
    "\n",
    "你怎麼做得到這種事呢, 原來你用各種卑劣的手段, 會得到『所有』來賓的『害羞指數』。這『害羞指數』是什麼呢? 原來就是如果我的害羞指數是 5, 那就是我要看到有 5 個人起立拍手, 我才會跟著起立拍手。害羞指數是 0 的話, 那沒人拍手他都會拍手。\n",
    "\n",
    "現在的問題就是: 可能有些害羞指數高的聽眾在裡面, 如果拍手的人不夠, 他們就不會起來拍手! 這該如何是好? 很容易, 你就安排一堆害羞指數是 0 的朋友進去, 最少要安排多少個朋友就是我們今天要算的。\n",
    "\n",
    "我們有幾個符號, $T$ 和 $S_i$ 要解說一下。\n",
    "\n",
    "$T$ 是所有觀眾人數 (當然不包括你動員的朋友), 我們假設:\n",
    "\n",
    "$$1 \\leq T \\leq 100$$\n",
    "\n",
    "我們假設 $S_{\\max}$ 是聽眾中最高的害羞指數, $S_i$ 是害羞指數為 $i$ 的人數。我們會知道 $S_{\\max}$ 是多少, 也知道\n",
    "\n",
    "$$S_0, S_1, \\ldots, S_{\\max}$$\n",
    "\n",
    "的人數。\n",
    "\n",
    "現在我們會得到的情報是一個字串 (我們叫 aud), 如:\n",
    "\n",
    "#### [範例一]\n",
    "\n",
    "\"4 11111\"\n",
    "\n",
    "這第一個 4 是最高害羞指數 $S_{\\max}$ 是 4, 然後後面是每個害羞指數的人數, 如 $S_0$ 人數是 1　人, $S_1$ 也是 1 人, 一直到 $S_{\\max} = S_4$ 也是一人。\n",
    "\n",
    "這時我們要算出的答案應該是 0 (不需要加朋友進去!!)\n",
    "\n",
    "#### [範例二]\n",
    "aud = \"1 09\"<br>\n",
    "輸出: 1\n",
    "\n",
    "#### [範例三]\n",
    "aud = \"5 110011\"<br>\n",
    "輸出: 2\n",
    "\n",
    "#### [範例四]\n",
    "aud = \"0 1\"<br>\n",
    "輸出: 0\n",
    "\n",
    "現在就是想想任意符合要求的 aud 輸入, 你輸出應該是什麼?\n",
    "\n",
    "(當然你也可以想我們要亂數產生 aud 這個字串要怎麼做"
   ]
  },
  {
   "cell_type": "code",
   "execution_count": 18,
   "metadata": {
    "collapsed": true
   },
   "outputs": [],
   "source": [
    "def clap():\n",
    "    aud = input('please enter a valid eud: ')\n",
    "    n = len(aud)\n",
    "    a = 0\n",
    "    b = int(aud[2])\n",
    "    for i in range(n-2):\n",
    "        if a+b < i:\n",
    "            a = a + (i-(a+b))\n",
    "    print(a)"
   ]
  },
  {
   "cell_type": "markdown",
   "metadata": {},
   "source": [
    "## Q10. 醉漢走路 Random Walk\n",
    "\n",
    "設一個數列從 0 開始。下一個數字要嘛就加 1, 要嘛就減 1 (亂數決定要加要減)。做 500 次, 畫出這個數列。"
   ]
  },
  {
   "cell_type": "code",
   "execution_count": 19,
   "metadata": {
    "collapsed": true
   },
   "outputs": [],
   "source": [
    "def random_walk():\n",
    "    s = [0]\n",
    "    for i in range(500):\n",
    "        s.append(s[i]+np.random.choice([-1,1]))\n",
    "    s = np.array(s)\n",
    "    plt.plot(s)"
   ]
  },
  {
   "cell_type": "code",
   "execution_count": 20,
   "metadata": {
    "collapsed": false
   },
   "outputs": [
    {
     "data": {
      "image/png": "[encoded data removed]",
      "text/plain": [
       "<matplotlib.figure.Figure at 0x10b139710>"
      ]
     },
     "metadata": {},
     "output_type": "display_data"
    }
   ],
   "source": [
    "random_walk()"
   ]
  },
  {
   "cell_type": "markdown",
   "metadata": {},
   "source": [
    "## 自己出題自己做\n",
    "\n",
    "自己出至多三題有意思的題目, 最多三題。"
   ]
  },
  {
   "cell_type": "code",
   "execution_count": null,
   "metadata": {
    "collapsed": true
   },
   "outputs": [],
   "source": []
  }
 ],
 "metadata": {
  "kernelspec": {
   "display_name": "Python 3",
   "language": "python",
   "name": "python3"
  },
  "language_info": {
   "codemirror_mode": {
    "name": "ipython",
    "version": 3
   },
   "file_extension": ".py",
   "mimetype": "text/x-python",
   "name": "python",
   "nbconvert_exporter": "python",
   "pygments_lexer": "ipython3",
   "version": "3.5.2"
  }
 },
 "nbformat": 4,
 "nbformat_minor": 2
}
