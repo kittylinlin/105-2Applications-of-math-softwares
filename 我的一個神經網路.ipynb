{
 "cells": [
  {
   "cell_type": "code",
   "execution_count": 1,
   "metadata": {
    "collapsed": true
   },
   "outputs": [],
   "source": [
    "%matplotlib inline\n",
    "import numpy as np\n",
    "import matplotlib.pyplot as plt"
   ]
  },
  {
   "cell_type": "markdown",
   "metadata": {},
   "source": [
    "## MNIST"
   ]
  },
  {
   "cell_type": "code",
   "execution_count": 2,
   "metadata": {
    "collapsed": false
   },
   "outputs": [
    {
     "name": "stderr",
     "output_type": "stream",
     "text": [
      "Using Theano backend.\n"
     ]
    }
   ],
   "source": [
    "from keras.datasets import mnist"
   ]
  },
  {
   "cell_type": "code",
   "execution_count": 3,
   "metadata": {
    "collapsed": false
   },
   "outputs": [],
   "source": [
    "(x0_train, y0_train), (x0_test, y0_test) = mnist.load_data()"
   ]
  },
  {
   "cell_type": "code",
   "execution_count": 4,
   "metadata": {
    "collapsed": false
   },
   "outputs": [],
   "source": [
    "x_train = x0_train.reshape(60000, 28*28)\n",
    "x_test = x0_test.reshape(10000, 28*28)"
   ]
  },
  {
   "cell_type": "code",
   "execution_count": 5,
   "metadata": {
    "collapsed": true
   },
   "outputs": [],
   "source": [
    "from keras.utils import np_utils"
   ]
  },
  {
   "cell_type": "code",
   "execution_count": 6,
   "metadata": {
    "collapsed": false
   },
   "outputs": [],
   "source": [
    "y_train = np_utils.to_categorical(y0_train, 10)\n",
    "y_test = np_utils.to_categorical(y0_test, 10)"
   ]
  },
  {
   "cell_type": "code",
   "execution_count": 7,
   "metadata": {
    "collapsed": true
   },
   "outputs": [],
   "source": [
    "from keras.models import Sequential\n",
    "from keras.layers import Dense, Activation\n",
    "from keras.optimizers import SGD"
   ]
  },
  {
   "cell_type": "code",
   "execution_count": 8,
   "metadata": {
    "collapsed": true
   },
   "outputs": [],
   "source": [
    "model = Sequential()"
   ]
  },
  {
   "cell_type": "code",
   "execution_count": 9,
   "metadata": {
    "collapsed": false
   },
   "outputs": [],
   "source": [
    "model.add(Dense(units=600, input_dim=784))\n",
    "model.add(Activation('sigmoid'))"
   ]
  },
  {
   "cell_type": "code",
   "execution_count": 10,
   "metadata": {
    "collapsed": true
   },
   "outputs": [],
   "source": [
    "model.add(Dense(units=600))\n",
    "model.add(Activation('relu'))"
   ]
  },
  {
   "cell_type": "code",
   "execution_count": 11,
   "metadata": {
    "collapsed": true
   },
   "outputs": [],
   "source": [
    "model.add(Dense(units=10))\n",
    "model.add(Activation('softmax'))"
   ]
  },
  {
   "cell_type": "code",
   "execution_count": 12,
   "metadata": {
    "collapsed": true
   },
   "outputs": [],
   "source": [
    "model.compile(loss='mse', optimizer=SGD(lr=0.1), metrics=['accuracy'])"
   ]
  },
  {
   "cell_type": "code",
   "execution_count": 13,
   "metadata": {
    "collapsed": false
   },
   "outputs": [
    {
     "name": "stdout",
     "output_type": "stream",
     "text": [
      "Epoch 1/20\n",
      "60000/60000 [==============================] - 22s - loss: 0.0216 - acc: 0.8663    \n",
      "Epoch 2/20\n",
      "60000/60000 [==============================] - 24s - loss: 0.0117 - acc: 0.9269    \n",
      "Epoch 3/20\n",
      "60000/60000 [==============================] - 23s - loss: 0.0101 - acc: 0.9359    \n",
      "Epoch 4/20\n",
      "60000/60000 [==============================] - 22s - loss: 0.0089 - acc: 0.9446    \n",
      "Epoch 5/20\n",
      "60000/60000 [==============================] - 24s - loss: 0.0082 - acc: 0.9493    \n",
      "Epoch 6/20\n",
      "60000/60000 [==============================] - 23s - loss: 0.0080 - acc: 0.9504    \n",
      "Epoch 7/20\n",
      "60000/60000 [==============================] - 21s - loss: 0.0077 - acc: 0.9518    \n",
      "Epoch 8/20\n",
      "60000/60000 [==============================] - 20s - loss: 0.0074 - acc: 0.9537    \n",
      "Epoch 9/20\n",
      "60000/60000 [==============================] - 20s - loss: 0.0072 - acc: 0.9546    \n",
      "Epoch 10/20\n",
      "60000/60000 [==============================] - 22s - loss: 0.0072 - acc: 0.9545    \n",
      "Epoch 11/20\n",
      "60000/60000 [==============================] - 21s - loss: 0.0071 - acc: 0.9552    \n",
      "Epoch 12/20\n",
      "60000/60000 [==============================] - 20s - loss: 0.0067 - acc: 0.9573    \n",
      "Epoch 13/20\n",
      "60000/60000 [==============================] - 20s - loss: 0.0068 - acc: 0.9569    \n",
      "Epoch 14/20\n",
      "60000/60000 [==============================] - 20s - loss: 0.0067 - acc: 0.9574    \n",
      "Epoch 15/20\n",
      "60000/60000 [==============================] - 20s - loss: 0.0066 - acc: 0.9585    \n",
      "Epoch 16/20\n",
      "60000/60000 [==============================] - 18s - loss: 0.0064 - acc: 0.9597    \n",
      "Epoch 17/20\n",
      "60000/60000 [==============================] - 18s - loss: 0.0065 - acc: 0.9586    \n",
      "Epoch 18/20\n",
      "60000/60000 [==============================] - 19s - loss: 0.0067 - acc: 0.9571    \n",
      "Epoch 19/20\n",
      "60000/60000 [==============================] - 20s - loss: 0.0063 - acc: 0.9597    \n",
      "Epoch 20/20\n",
      "60000/60000 [==============================] - 19s - loss: 0.0065 - acc: 0.9582    \n"
     ]
    },
    {
     "data": {
      "text/plain": [
       "<keras.callbacks.History at 0x10edee208>"
      ]
     },
     "execution_count": 13,
     "metadata": {},
     "output_type": "execute_result"
    }
   ],
   "source": [
    "model.fit(x_train, y_train, batch_size=20, epochs=20)"
   ]
  },
  {
   "cell_type": "code",
   "execution_count": 14,
   "metadata": {
    "collapsed": false
   },
   "outputs": [
    {
     "name": "stdout",
     "output_type": "stream",
     "text": [
      " 9696/10000 [============================>.] - ETA: 0s"
     ]
    }
   ],
   "source": [
    "result = model.predict_classes(x_test)"
   ]
  },
  {
   "cell_type": "code",
   "execution_count": 15,
   "metadata": {
    "collapsed": true
   },
   "outputs": [],
   "source": [
    "from ipywidgets import interact_manual"
   ]
  },
  {
   "cell_type": "code",
   "execution_count": null,
   "metadata": {
    "collapsed": true
   },
   "outputs": [],
   "source": [
    "def robot(number):\n",
    "    plt.imshow(x0_test[number], cmap=\"Greys\")\n",
    "    print(\"Robot's answer is:\", result[number])"
   ]
  },
  {
   "cell_type": "code",
   "execution_count": null,
   "metadata": {
    "collapsed": false
   },
   "outputs": [],
   "source": [
    "interact_manual(robot, number = (0, 9999));"
   ]
  },
  {
   "cell_type": "markdown",
   "metadata": {},
   "source": [
    "## 儲存"
   ]
  },
  {
   "cell_type": "code",
   "execution_count": null,
   "metadata": {
    "collapsed": true
   },
   "outputs": [],
   "source": [
    "model_json = model.to_json()\n",
    "open('handwriting_model_architecture.json', 'w').write(model_json)\n",
    "model.save_weights('handwriting_model_weights.h5')"
   ]
  },
  {
   "cell_type": "code",
   "execution_count": null,
   "metadata": {
    "collapsed": true
   },
   "outputs": [],
   "source": []
  }
 ],
 "metadata": {
  "kernelspec": {
   "display_name": "Python 3",
   "language": "python",
   "name": "python3"
  },
  "language_info": {
   "codemirror_mode": {
    "name": "ipython",
    "version": 3
   },
   "file_extension": ".py",
   "mimetype": "text/x-python",
   "name": "python",
   "nbconvert_exporter": "python",
   "pygments_lexer": "ipython3",
   "version": "3.5.2"
  }
 },
 "nbformat": 4,
 "nbformat_minor": 1
}
