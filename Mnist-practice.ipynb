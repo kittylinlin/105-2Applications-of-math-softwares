{
 "cells": [
  {
   "cell_type": "code",
   "execution_count": 1,
   "metadata": {
    "collapsed": true
   },
   "outputs": [],
   "source": [
    "%matplotlib inline\n",
    "import numpy as np\n",
    "import matplotlib.pyplot as plt"
   ]
  },
  {
   "cell_type": "markdown",
   "metadata": {},
   "source": [
    "## MNIST"
   ]
  },
  {
   "cell_type": "code",
   "execution_count": 2,
   "metadata": {
    "collapsed": false
   },
   "outputs": [
    {
     "name": "stderr",
     "output_type": "stream",
     "text": [
      "Using Theano backend.\n"
     ]
    }
   ],
   "source": [
    "from keras.datasets import mnist"
   ]
  },
  {
   "cell_type": "code",
   "execution_count": 3,
   "metadata": {
    "collapsed": false
   },
   "outputs": [],
   "source": [
    "(x0_train, y0_train), (x0_test, y0_test) = mnist.load_data()"
   ]
  },
  {
   "cell_type": "code",
   "execution_count": 4,
   "metadata": {
    "collapsed": false
   },
   "outputs": [],
   "source": [
    "x_train = x0_train.reshape(60000, 28*28)\n",
    "x_test = x0_test.reshape(10000, 28*28)"
   ]
  },
  {
   "cell_type": "code",
   "execution_count": 5,
   "metadata": {
    "collapsed": true
   },
   "outputs": [],
   "source": [
    "from keras.utils import np_utils"
   ]
  },
  {
   "cell_type": "code",
   "execution_count": 6,
   "metadata": {
    "collapsed": false
   },
   "outputs": [],
   "source": [
    "y_train = np_utils.to_categorical(y0_train, 10)\n",
    "y_test = np_utils.to_categorical(y0_test, 10)"
   ]
  },
  {
   "cell_type": "code",
   "execution_count": 7,
   "metadata": {
    "collapsed": true
   },
   "outputs": [],
   "source": [
    "from keras.models import Sequential\n",
    "from keras.layers import Dense, Activation\n",
    "from keras.optimizers import SGD"
   ]
  },
  {
   "cell_type": "code",
   "execution_count": 8,
   "metadata": {
    "collapsed": true
   },
   "outputs": [],
   "source": [
    "model = Sequential()"
   ]
  },
  {
   "cell_type": "code",
   "execution_count": 9,
   "metadata": {
    "collapsed": false
   },
   "outputs": [],
   "source": [
    "model.add(Dense(units=500, input_dim=784))\n",
    "model.add(Activation('tanh'))"
   ]
  },
  {
   "cell_type": "code",
   "execution_count": 10,
   "metadata": {
    "collapsed": true
   },
   "outputs": [],
   "source": [
    "model.add(Dense(units=500))\n",
    "model.add(Activation('tanh'))"
   ]
  },
  {
   "cell_type": "code",
   "execution_count": 11,
   "metadata": {
    "collapsed": true
   },
   "outputs": [],
   "source": [
    "model.add(Dense(units=10))\n",
    "model.add(Activation('softmax'))"
   ]
  },
  {
   "cell_type": "code",
   "execution_count": 12,
   "metadata": {
    "collapsed": false
   },
   "outputs": [],
   "source": [
    "model.compile(loss='mae', optimizer=SGD(lr=0.13), metrics=['accuracy'])"
   ]
  },
  {
   "cell_type": "code",
   "execution_count": 13,
   "metadata": {
    "collapsed": false
   },
   "outputs": [
    {
     "name": "stdout",
     "output_type": "stream",
     "text": [
      "Epoch 1/20\n",
      "60000/60000 [==============================] - 5s - loss: 0.0591 - acc: 0.7775     \n",
      "Epoch 2/20\n",
      "60000/60000 [==============================] - 4s - loss: 0.0263 - acc: 0.9061     \n",
      "Epoch 3/20\n",
      "60000/60000 [==============================] - 4s - loss: 0.0216 - acc: 0.9190     \n",
      "Epoch 4/20\n",
      "60000/60000 [==============================] - 4s - loss: 0.0192 - acc: 0.9258     \n",
      "Epoch 5/20\n",
      "60000/60000 [==============================] - 4s - loss: 0.0177 - acc: 0.9315     \n",
      "Epoch 6/20\n",
      "60000/60000 [==============================] - 4s - loss: 0.0162 - acc: 0.9375     \n",
      "Epoch 7/20\n",
      "60000/60000 [==============================] - 4s - loss: 0.0154 - acc: 0.9387     \n",
      "Epoch 8/20\n",
      "60000/60000 [==============================] - 4s - loss: 0.0149 - acc: 0.9405     \n",
      "Epoch 9/20\n",
      "60000/60000 [==============================] - 4s - loss: 0.0143 - acc: 0.9433     \n",
      "Epoch 10/20\n",
      "60000/60000 [==============================] - 4s - loss: 0.0137 - acc: 0.9458     \n",
      "Epoch 11/20\n",
      "60000/60000 [==============================] - 4s - loss: 0.0132 - acc: 0.9469     \n",
      "Epoch 12/20\n",
      "60000/60000 [==============================] - 4s - loss: 0.0128 - acc: 0.9498     \n",
      "Epoch 13/20\n",
      "60000/60000 [==============================] - 4s - loss: 0.0122 - acc: 0.9510     \n",
      "Epoch 14/20\n",
      "60000/60000 [==============================] - 6s - loss: 0.0124 - acc: 0.9508     \n",
      "Epoch 15/20\n",
      "60000/60000 [==============================] - 6s - loss: 0.0125 - acc: 0.9504     \n",
      "Epoch 16/20\n",
      "60000/60000 [==============================] - 5s - loss: 0.0124 - acc: 0.9505     \n",
      "Epoch 17/20\n",
      "60000/60000 [==============================] - 5s - loss: 0.0120 - acc: 0.9523     \n",
      "Epoch 18/20\n",
      "60000/60000 [==============================] - 4s - loss: 0.0114 - acc: 0.9541     \n",
      "Epoch 19/20\n",
      "60000/60000 [==============================] - 4s - loss: 0.0114 - acc: 0.9541     \n",
      "Epoch 20/20\n",
      "60000/60000 [==============================] - 4s - loss: 0.0111 - acc: 0.9555     \n"
     ]
    },
    {
     "data": {
      "text/plain": [
       "<keras.callbacks.History at 0x10e5436a0>"
      ]
     },
     "execution_count": 13,
     "metadata": {},
     "output_type": "execute_result"
    }
   ],
   "source": [
    "model.fit(x_train, y_train, batch_size=100, epochs=20)"
   ]
  },
  {
   "cell_type": "code",
   "execution_count": 14,
   "metadata": {
    "collapsed": false
   },
   "outputs": [
    {
     "name": "stdout",
     "output_type": "stream",
     "text": [
      " 9536/10000 [===========================>..] - ETA: 0s"
     ]
    }
   ],
   "source": [
    "result = model.predict_classes(x_test)"
   ]
  },
  {
   "cell_type": "code",
   "execution_count": 15,
   "metadata": {
    "collapsed": false
   },
   "outputs": [
    {
     "data": {
      "text/plain": [
       "<matplotlib.image.AxesImage at 0x10e345160>"
      ]
     },
     "execution_count": 15,
     "metadata": {},
     "output_type": "execute_result"
    },
    {
     "data": {
      "image/png": "[encoded data removed]",
      "text/plain": [
       "<matplotlib.figure.Figure at 0x10ebdfe10>"
      ]
     },
     "metadata": {},
     "output_type": "display_data"
    }
   ],
   "source": [
    "plt.imshow(x0_test[123], cmap=\"Greys\")"
   ]
  },
  {
   "cell_type": "code",
   "execution_count": 16,
   "metadata": {
    "collapsed": false
   },
   "outputs": [
    {
     "data": {
      "text/plain": [
       "6"
      ]
     },
     "execution_count": 16,
     "metadata": {},
     "output_type": "execute_result"
    }
   ],
   "source": [
    "result[123]"
   ]
  }
 ],
 "metadata": {
  "kernelspec": {
   "display_name": "Python 3",
   "language": "python",
   "name": "python3"
  },
  "language_info": {
   "codemirror_mode": {
    "name": "ipython",
    "version": 3
   },
   "file_extension": ".py",
   "mimetype": "text/x-python",
   "name": "python",
   "nbconvert_exporter": "python",
   "pygments_lexer": "ipython3",
   "version": "3.5.2"
  }
 },
 "nbformat": 4,
 "nbformat_minor": 1
}
