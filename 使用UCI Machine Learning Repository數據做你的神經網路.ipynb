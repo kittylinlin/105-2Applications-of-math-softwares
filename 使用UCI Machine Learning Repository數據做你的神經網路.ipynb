{
 "cells": [
  {
   "cell_type": "code",
   "execution_count": 1,
   "metadata": {
    "collapsed": true
   },
   "outputs": [],
   "source": [
    "%matplotlib inline\n",
    "import numpy as np\n",
    "import matplotlib.pyplot as plt"
   ]
  },
  {
   "cell_type": "markdown",
   "metadata": {},
   "source": [
    "## 讀入資料\n",
    "* 資料來源：[UCI Machine Learning Repository](https://archive.ics.uci.edu/ml/datasets/Car+Evaluation)"
   ]
  },
  {
   "cell_type": "code",
   "execution_count": 2,
   "metadata": {
    "collapsed": true
   },
   "outputs": [],
   "source": [
    "import pandas as pd"
   ]
  },
  {
   "cell_type": "code",
   "execution_count": 3,
   "metadata": {
    "collapsed": true
   },
   "outputs": [],
   "source": [
    "df = pd.read_csv(\"car-data.csv\")"
   ]
  },
  {
   "cell_type": "code",
   "execution_count": 4,
   "metadata": {
    "collapsed": false
   },
   "outputs": [],
   "source": [
    "# 增加columns' name\n",
    "df.columns = ['buying_price', 'maintenance_price', 'doors', 'persons_capacity', 'size_of_luggage_boot', 'safety', 'class_values']"
   ]
  },
  {
   "cell_type": "code",
   "execution_count": 5,
   "metadata": {
    "collapsed": false
   },
   "outputs": [
    {
     "data": {
      "text/html": [
       "<div>\n",
       "<table border=\"1\" class=\"dataframe\">\n",
       "  <thead>\n",
       "    <tr style=\"text-align: right;\">\n",
       "      <th></th>\n",
       "      <th>buying_price</th>\n",
       "      <th>maintenance_price</th>\n",
       "      <th>doors</th>\n",
       "      <th>persons_capacity</th>\n",
       "      <th>size_of_luggage_boot</th>\n",
       "      <th>safety</th>\n",
       "      <th>class_values</th>\n",
       "    </tr>\n",
       "  </thead>\n",
       "  <tbody>\n",
       "    <tr>\n",
       "      <th>0</th>\n",
       "      <td>vhigh</td>\n",
       "      <td>vhigh</td>\n",
       "      <td>2</td>\n",
       "      <td>2</td>\n",
       "      <td>small</td>\n",
       "      <td>med</td>\n",
       "      <td>unacc</td>\n",
       "    </tr>\n",
       "    <tr>\n",
       "      <th>1</th>\n",
       "      <td>vhigh</td>\n",
       "      <td>vhigh</td>\n",
       "      <td>2</td>\n",
       "      <td>2</td>\n",
       "      <td>small</td>\n",
       "      <td>high</td>\n",
       "      <td>unacc</td>\n",
       "    </tr>\n",
       "    <tr>\n",
       "      <th>2</th>\n",
       "      <td>vhigh</td>\n",
       "      <td>vhigh</td>\n",
       "      <td>2</td>\n",
       "      <td>2</td>\n",
       "      <td>med</td>\n",
       "      <td>low</td>\n",
       "      <td>unacc</td>\n",
       "    </tr>\n",
       "    <tr>\n",
       "      <th>3</th>\n",
       "      <td>vhigh</td>\n",
       "      <td>vhigh</td>\n",
       "      <td>2</td>\n",
       "      <td>2</td>\n",
       "      <td>med</td>\n",
       "      <td>med</td>\n",
       "      <td>unacc</td>\n",
       "    </tr>\n",
       "    <tr>\n",
       "      <th>4</th>\n",
       "      <td>vhigh</td>\n",
       "      <td>vhigh</td>\n",
       "      <td>2</td>\n",
       "      <td>2</td>\n",
       "      <td>med</td>\n",
       "      <td>high</td>\n",
       "      <td>unacc</td>\n",
       "    </tr>\n",
       "  </tbody>\n",
       "</table>\n",
       "</div>"
      ],
      "text/plain": [
       "  buying_price maintenance_price doors persons_capacity size_of_luggage_boot  \\\n",
       "0        vhigh             vhigh     2                2                small   \n",
       "1        vhigh             vhigh     2                2                small   \n",
       "2        vhigh             vhigh     2                2                  med   \n",
       "3        vhigh             vhigh     2                2                  med   \n",
       "4        vhigh             vhigh     2                2                  med   \n",
       "\n",
       "  safety class_values  \n",
       "0    med        unacc  \n",
       "1   high        unacc  \n",
       "2    low        unacc  \n",
       "3    med        unacc  \n",
       "4   high        unacc  "
      ]
     },
     "execution_count": 5,
     "metadata": {},
     "output_type": "execute_result"
    }
   ],
   "source": [
    "df.head()"
   ]
  },
  {
   "cell_type": "markdown",
   "metadata": {},
   "source": [
    "### Input Attributes: \n",
    "* buying: vhigh, high, med, low\n",
    "* maint: vhigh, high, med, low\n",
    "* doors: 2, 3, 4, 5more\n",
    "* persons: 2, 4, more\n",
    "* lug_boot: small, med, big\n",
    "* safety: low, med, high\n",
    "\n",
    "### Output Class Values: \n",
    "* unacc, acc, good, vgood"
   ]
  },
  {
   "cell_type": "markdown",
   "metadata": {},
   "source": [
    "## 將文字轉為數字"
   ]
  },
  {
   "cell_type": "code",
   "execution_count": 6,
   "metadata": {
    "collapsed": true
   },
   "outputs": [],
   "source": [
    "df1 = df"
   ]
  },
  {
   "cell_type": "code",
   "execution_count": 7,
   "metadata": {
    "collapsed": true
   },
   "outputs": [],
   "source": [
    "# buying_price: 0,1,2,3\n",
    "df1.loc[df.buying_price == 'low', \"buying_price\"] = 0\n",
    "df1.loc[df.buying_price == 'med', \"buying_price\"] = 1\n",
    "df1.loc[df.buying_price == 'high', \"buying_price\"] = 2\n",
    "df1.loc[df.buying_price == 'vhigh', \"buying_price\"] = 3"
   ]
  },
  {
   "cell_type": "code",
   "execution_count": 8,
   "metadata": {
    "collapsed": true
   },
   "outputs": [],
   "source": [
    "# maintenance_price: 0,1,2,3\n",
    "df1.loc[df.maintenance_price == 'low', \"maintenance_price\"] = 0\n",
    "df1.loc[df.maintenance_price == 'med', \"maintenance_price\"] = 1\n",
    "df1.loc[df.maintenance_price == 'high', \"maintenance_price\"] = 2\n",
    "df1.loc[df.maintenance_price == 'vhigh', \"maintenance_price\"] = 3"
   ]
  },
  {
   "cell_type": "code",
   "execution_count": 9,
   "metadata": {
    "collapsed": true
   },
   "outputs": [],
   "source": [
    "# doors: 2,3,4,5\n",
    "df1.loc[df.doors == '2', \"doors\"] = 2\n",
    "df1.loc[df.doors == '3', \"doors\"] = 3\n",
    "df1.loc[df.doors == '4', \"doors\"] = 4\n",
    "df1.loc[df.doors == '5more', \"doors\"] = 5"
   ]
  },
  {
   "cell_type": "code",
   "execution_count": 10,
   "metadata": {
    "collapsed": true
   },
   "outputs": [],
   "source": [
    "# persons_capacity: 2,4,5\n",
    "df1.loc[df.persons_capacity == '2', \"persons_capacity\"] = 2\n",
    "df1.loc[df.persons_capacity == '4', \"persons_capacity\"] = 4\n",
    "df1.loc[df.persons_capacity == 'more', \"persons_capacity\"] = 5"
   ]
  },
  {
   "cell_type": "code",
   "execution_count": 11,
   "metadata": {
    "collapsed": false
   },
   "outputs": [],
   "source": [
    "# size_of_luggage_boot: 0,1,2\n",
    "df1.loc[df.size_of_luggage_boot == 'small', \"size_of_luggage_boot\"] = 0\n",
    "df1.loc[df.size_of_luggage_boot == 'med', \"size_of_luggage_boot\"] = 1\n",
    "df1.loc[df.size_of_luggage_boot == 'big', \"size_of_luggage_boot\"] = 2"
   ]
  },
  {
   "cell_type": "code",
   "execution_count": 12,
   "metadata": {
    "collapsed": false
   },
   "outputs": [],
   "source": [
    "# safety: 0,1,2\n",
    "df1.loc[df.safety == 'low', \"safety\"] = 0\n",
    "df1.loc[df.safety == 'med', \"safety\"] = 1\n",
    "df1.loc[df.safety == 'high', \"safety\"] = 2"
   ]
  },
  {
   "cell_type": "code",
   "execution_count": 13,
   "metadata": {
    "collapsed": true
   },
   "outputs": [],
   "source": [
    "# class_values: 0,1,2,3\n",
    "df1.loc[df.class_values == 'unacc', \"class_values\"] = 0\n",
    "df1.loc[df.class_values == 'acc', \"class_values\"] = 1\n",
    "df1.loc[df.class_values == 'good', \"class_values\"] = 2\n",
    "df1.loc[df.class_values == 'vgood', \"class_values\"] = 3"
   ]
  },
  {
   "cell_type": "markdown",
   "metadata": {},
   "source": [
    "## 開始神經網路"
   ]
  },
  {
   "cell_type": "code",
   "execution_count": 14,
   "metadata": {
    "collapsed": true
   },
   "outputs": [],
   "source": [
    "x = np.array(df1)[:, :6]\n",
    "y = np.array(df1)[:, 6]"
   ]
  },
  {
   "cell_type": "code",
   "execution_count": 15,
   "metadata": {
    "collapsed": true
   },
   "outputs": [],
   "source": [
    "from sklearn.cross_validation import train_test_split"
   ]
  },
  {
   "cell_type": "code",
   "execution_count": 16,
   "metadata": {
    "collapsed": false
   },
   "outputs": [
    {
     "name": "stderr",
     "output_type": "stream",
     "text": [
      "Using Theano backend.\n"
     ]
    }
   ],
   "source": [
    "from keras.utils import np_utils"
   ]
  },
  {
   "cell_type": "code",
   "execution_count": 17,
   "metadata": {
    "collapsed": false
   },
   "outputs": [],
   "source": [
    "from keras.models import Sequential\n",
    "from keras.layers import Dense, Activation\n",
    "from keras.optimizers import SGD"
   ]
  },
  {
   "cell_type": "code",
   "execution_count": 18,
   "metadata": {
    "collapsed": false
   },
   "outputs": [],
   "source": [
    "model = Sequential()"
   ]
  },
  {
   "cell_type": "code",
   "execution_count": 19,
   "metadata": {
    "collapsed": false
   },
   "outputs": [],
   "source": [
    "model.add(Dense(units=70, input_dim=6))\n",
    "model.add(Activation('relu'))"
   ]
  },
  {
   "cell_type": "code",
   "execution_count": 20,
   "metadata": {
    "collapsed": true
   },
   "outputs": [],
   "source": [
    "model.add(Dense(units=60))\n",
    "model.add(Activation('relu'))"
   ]
  },
  {
   "cell_type": "code",
   "execution_count": 21,
   "metadata": {
    "collapsed": true
   },
   "outputs": [],
   "source": [
    "model.add(Dense(units=60))\n",
    "model.add(Activation('relu'))"
   ]
  },
  {
   "cell_type": "code",
   "execution_count": 22,
   "metadata": {
    "collapsed": true
   },
   "outputs": [],
   "source": [
    "model.add(Dense(units=1))\n",
    "model.add(Activation('sigmoid'))"
   ]
  },
  {
   "cell_type": "code",
   "execution_count": 23,
   "metadata": {
    "collapsed": true
   },
   "outputs": [],
   "source": [
    "model.compile(loss='mse', optimizer=SGD(lr=0.1), metrics=['accuracy'])"
   ]
  },
  {
   "cell_type": "code",
   "execution_count": 24,
   "metadata": {
    "collapsed": false
   },
   "outputs": [
    {
     "name": "stdout",
     "output_type": "stream",
     "text": [
      "Epoch 1/20\n",
      "1727/1727 [==============================] - 0s - loss: 0.4842 - acc: 0.5964     \n",
      "Epoch 2/20\n",
      "1727/1727 [==============================] - 0s - loss: 0.3716 - acc: 0.7192     \n",
      "Epoch 3/20\n",
      "1727/1727 [==============================] - 0s - loss: 0.3375 - acc: 0.7516     \n",
      "Epoch 4/20\n",
      "1727/1727 [==============================] - 0s - loss: 0.3283 - acc: 0.7562     \n",
      "Epoch 5/20\n",
      "1727/1727 [==============================] - 0s - loss: 0.3114 - acc: 0.7678     \n",
      "Epoch 6/20\n",
      "1727/1727 [==============================] - 0s - loss: 0.3042 - acc: 0.7759     \n",
      "Epoch 7/20\n",
      "1727/1727 [==============================] - 0s - loss: 0.2996 - acc: 0.7852     \n",
      "Epoch 8/20\n",
      "1727/1727 [==============================] - 0s - loss: 0.2887 - acc: 0.7939     \n",
      "Epoch 9/20\n",
      "1727/1727 [==============================] - 0s - loss: 0.2755 - acc: 0.8130     \n",
      "Epoch 10/20\n",
      "1727/1727 [==============================] - 0s - loss: 0.2828 - acc: 0.8037     \n",
      "Epoch 11/20\n",
      "1727/1727 [==============================] - 0s - loss: 0.2750 - acc: 0.8251     \n",
      "Epoch 12/20\n",
      "1727/1727 [==============================] - 0s - loss: 0.2637 - acc: 0.8257     \n",
      "Epoch 13/20\n",
      "1727/1727 [==============================] - 0s - loss: 0.2714 - acc: 0.8205     \n",
      "Epoch 14/20\n",
      "1727/1727 [==============================] - 0s - loss: 0.2534 - acc: 0.8448     \n",
      "Epoch 15/20\n",
      "1727/1727 [==============================] - 0s - loss: 0.2543 - acc: 0.8408     \n",
      "Epoch 16/20\n",
      "1727/1727 [==============================] - 0s - loss: 0.2467 - acc: 0.8512     \n",
      "Epoch 17/20\n",
      "1727/1727 [==============================] - 0s - loss: 0.2405 - acc: 0.8587     \n",
      "Epoch 18/20\n",
      "1727/1727 [==============================] - 0s - loss: 0.2568 - acc: 0.8413     \n",
      "Epoch 19/20\n",
      "1727/1727 [==============================] - 0s - loss: 0.2428 - acc: 0.8535     \n",
      "Epoch 20/20\n",
      "1727/1727 [==============================] - 0s - loss: 0.2535 - acc: 0.8466     \n"
     ]
    },
    {
     "data": {
      "text/plain": [
       "<keras.callbacks.History at 0x10cf29860>"
      ]
     },
     "execution_count": 24,
     "metadata": {},
     "output_type": "execute_result"
    }
   ],
   "source": [
    "model.fit(x, y, batch_size=90, epochs=20)"
   ]
  },
  {
   "cell_type": "code",
   "execution_count": 25,
   "metadata": {
    "collapsed": false
   },
   "outputs": [
    {
     "name": "stdout",
     "output_type": "stream",
     "text": [
      "\r",
      "  32/1727 [..............................] - ETA: 0s"
     ]
    }
   ],
   "source": [
    "result = model.predict_classes(x)"
   ]
  },
  {
   "cell_type": "code",
   "execution_count": 26,
   "metadata": {
    "collapsed": false
   },
   "outputs": [
    {
     "name": "stdout",
     "output_type": "stream",
     "text": [
      "\r",
      "  32/1727 [..............................] - ETA: 0s"
     ]
    },
    {
     "data": {
      "text/plain": [
       "(0.2374421872573915, 0.86276780516685747)"
      ]
     },
     "execution_count": 26,
     "metadata": {},
     "output_type": "execute_result"
    }
   ],
   "source": [
    "scores = model.evaluate(x, y)\n",
    "scores[0], scores[1]"
   ]
  },
  {
   "cell_type": "code",
   "execution_count": null,
   "metadata": {
    "collapsed": true
   },
   "outputs": [],
   "source": []
  }
 ],
 "metadata": {
  "kernelspec": {
   "display_name": "Python 3",
   "language": "python",
   "name": "python3"
  },
  "language_info": {
   "codemirror_mode": {
    "name": "ipython",
    "version": 3
   },
   "file_extension": ".py",
   "mimetype": "text/x-python",
   "name": "python",
   "nbconvert_exporter": "python",
   "pygments_lexer": "ipython3",
   "version": "3.5.2"
  }
 },
 "nbformat": 4,
 "nbformat_minor": 1
}
